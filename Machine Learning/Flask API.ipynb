{
 "cells": [
  {
   "cell_type": "code",
   "execution_count": 1,
   "id": "78289e91",
   "metadata": {},
   "outputs": [],
   "source": [
    "import pickle\n",
    "from sklearn.neighbors import KNeighborsClassifier\n",
    "import numpy as np\n",
    "import pandas as pd"
   ]
  },
  {
   "cell_type": "code",
   "execution_count": 2,
   "id": "f5405faf",
   "metadata": {},
   "outputs": [],
   "source": [
    "filename = 'finalized_model.sav'\n",
    "loaded_model = pickle.load(open(filename, 'rb'))"
   ]
  },
  {
   "cell_type": "code",
   "execution_count": null,
   "id": "d6a3eafc",
   "metadata": {},
   "outputs": [],
   "source": []
  },
  {
   "cell_type": "code",
   "execution_count": null,
   "id": "61fda069",
   "metadata": {},
   "outputs": [],
   "source": []
  },
  {
   "cell_type": "code",
   "execution_count": null,
   "id": "21d089fa",
   "metadata": {},
   "outputs": [],
   "source": []
  },
  {
   "cell_type": "code",
   "execution_count": null,
   "id": "c5d33cf5",
   "metadata": {},
   "outputs": [
    {
     "name": "stdout",
     "output_type": "stream",
     "text": [
      " * Serving Flask app '__main__'\n",
      " * Debug mode: off\n"
     ]
    },
    {
     "name": "stderr",
     "output_type": "stream",
     "text": [
      "WARNING: This is a development server. Do not use it in a production deployment. Use a production WSGI server instead.\n",
      " * Running on http://127.0.0.1:9501\n",
      "Press CTRL+C to quit\n",
      "127.0.0.1 - - [06/Dec/2022 23:01:25] \"POST /MachineLearningModel HTTP/1.1\" 200 -\n"
     ]
    },
    {
     "name": "stdout",
     "output_type": "stream",
     "text": [
      "{'gender': '1', 'Employment': '1', 'work': '1', 'Familyhistory': '1', 'careoption': '1', 'Benefits': '1', 'age': '1'}\n"
     ]
    },
    {
     "name": "stderr",
     "output_type": "stream",
     "text": [
      "127.0.0.1 - - [06/Dec/2022 23:15:28] \"POST /MachineLearningModel HTTP/1.1\" 200 -\n"
     ]
    },
    {
     "name": "stdout",
     "output_type": "stream",
     "text": [
      "{'gender': '1', 'Employment': '1', 'work': '1', 'Familyhistory': '1', 'careoption': '1', 'Benefits': '1', 'age': '1'}\n"
     ]
    },
    {
     "name": "stderr",
     "output_type": "stream",
     "text": [
      "127.0.0.1 - - [06/Dec/2022 23:16:02] \"POST /MachineLearningModel HTTP/1.1\" 200 -\n"
     ]
    },
    {
     "name": "stdout",
     "output_type": "stream",
     "text": [
      "{'gender': '1', 'Employment': '1', 'work': '1', 'Familyhistory': '1', 'careoption': '1', 'Benefits': '1', 'age': '1'}\n"
     ]
    }
   ],
   "source": [
    "from flask import Flask, request\n",
    "import json\n",
    "import joblib\n",
    "# Setup flask server\n",
    "app = Flask(__name__)\n",
    "\n",
    "# Setup url route which will calculate\n",
    "# total sum of array.\n",
    "@app.route('/MachineLearningModel', methods = ['POST'])\n",
    "def sum_of_array():\n",
    "    \n",
    "    data = request.get_json()\n",
    "    print(data)\n",
    "    df = pd.DataFrame(data)\n",
    "    input_data = np.array(df).reshape(1,-1)\n",
    "    for feature in train_df:\n",
    "        le = preprocessing.LabelEncoder()\n",
    "        le.fit(train_df[feature])\n",
    "        le_name_mapping = dict(zip(le.classes_, le.transform(le.classes_)))\n",
    "        train_df[feature] = le.transform(train_df[feature])\n",
    "    # Get labels\n",
    "    \n",
    "    result = 'hello'\n",
    "\n",
    "    # Return data in json format\n",
    "    return json.dumps({\"result\":result})\n",
    "\n",
    "if __name__ == \"__main__\":\n",
    "\tapp.run(port=9501)\n"
   ]
  },
  {
   "cell_type": "code",
   "execution_count": null,
   "id": "d3924662",
   "metadata": {},
   "outputs": [],
   "source": []
  }
 ],
 "metadata": {
  "kernelspec": {
   "display_name": "Python 3 (ipykernel)",
   "language": "python",
   "name": "python3"
  },
  "language_info": {
   "codemirror_mode": {
    "name": "ipython",
    "version": 3
   },
   "file_extension": ".py",
   "mimetype": "text/x-python",
   "name": "python",
   "nbconvert_exporter": "python",
   "pygments_lexer": "ipython3",
   "version": "3.9.13"
  }
 },
 "nbformat": 4,
 "nbformat_minor": 5
}
