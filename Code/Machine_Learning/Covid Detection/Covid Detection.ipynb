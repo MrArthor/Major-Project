{
 "cells": [
  {
   "cell_type": "code",
   "execution_count": 1,
   "metadata": {
    "executionInfo": {
     "elapsed": 33351,
     "status": "ok",
     "timestamp": 1618300962284,
     "user": {
      "displayName": "Abhishek Sharma",
      "photoUrl": "https://lh3.googleusercontent.com/a-/AOh14GiRKfpd_A0MUIPBHRzyZRyDVtlOCQyVXLETmIQVSA=s64",
      "userId": "15158990279670167313"
     },
     "user_tz": -330
    },
    "id": "zf-Fhbo9yQkp"
   },
   "outputs": [],
   "source": [
    "from tensorflow import keras\n",
    "from tensorflow.keras.layers import Conv2D,MaxPool2D,Dropout,Flatten,Dense\n",
    "from tensorflow.keras.models import Sequential\n",
    "from tensorflow.keras.preprocessing import image\n",
    "import matplotlib.pyplot as plt"
   ]
  },
  {
   "cell_type": "code",
   "execution_count": 2,
   "metadata": {
    "colab": {
     "base_uri": "https://localhost:8080/"
    },
    "executionInfo": {
     "elapsed": 39193,
     "status": "ok",
     "timestamp": 1618300968129,
     "user": {
      "displayName": "Abhishek Sharma",
      "photoUrl": "https://lh3.googleusercontent.com/a-/AOh14GiRKfpd_A0MUIPBHRzyZRyDVtlOCQyVXLETmIQVSA=s64",
      "userId": "15158990279670167313"
     },
     "user_tz": -330
    },
    "id": "KIBUzmZlzEZs",
    "outputId": "8693b723-8095-49f4-9d11-327c970481ce"
   },
   "outputs": [
    {
     "name": "stdout",
     "output_type": "stream",
     "text": [
      "Model: \"sequential\"\n",
      "_________________________________________________________________\n",
      " Layer (type)                Output Shape              Param #   \n",
      "=================================================================\n",
      " conv2d (Conv2D)             (None, 222, 222, 32)      896       \n",
      "                                                                 \n",
      " conv2d_1 (Conv2D)           (None, 220, 220, 64)      18496     \n",
      "                                                                 \n",
      " max_pooling2d (MaxPooling2D  (None, 110, 110, 64)     0         \n",
      " )                                                               \n",
      "                                                                 \n",
      " dropout (Dropout)           (None, 110, 110, 64)      0         \n",
      "                                                                 \n",
      " conv2d_2 (Conv2D)           (None, 108, 108, 64)      36928     \n",
      "                                                                 \n",
      " max_pooling2d_1 (MaxPooling  (None, 54, 54, 64)       0         \n",
      " 2D)                                                             \n",
      "                                                                 \n",
      " dropout_1 (Dropout)         (None, 54, 54, 64)        0         \n",
      "                                                                 \n",
      " conv2d_3 (Conv2D)           (None, 52, 52, 128)       73856     \n",
      "                                                                 \n",
      " max_pooling2d_2 (MaxPooling  (None, 26, 26, 128)      0         \n",
      " 2D)                                                             \n",
      "                                                                 \n",
      " dropout_2 (Dropout)         (None, 26, 26, 128)       0         \n",
      "                                                                 \n",
      " flatten (Flatten)           (None, 86528)             0         \n",
      "                                                                 \n",
      " dense (Dense)               (None, 64)                5537856   \n",
      "                                                                 \n",
      " dropout_3 (Dropout)         (None, 64)                0         \n",
      "                                                                 \n",
      " dense_1 (Dense)             (None, 1)                 65        \n",
      "                                                                 \n",
      "=================================================================\n",
      "Total params: 5,668,097\n",
      "Trainable params: 5,668,097\n",
      "Non-trainable params: 0\n",
      "_________________________________________________________________\n"
     ]
    }
   ],
   "source": [
    "model = Sequential()\n",
    "\n",
    "model.add(Conv2D(32,(3,3),activation='relu',input_shape=(224,224,3)))\n",
    "model.add(Conv2D(64,(3,3),activation='relu'))\n",
    "model.add(MaxPool2D(pool_size=(2,2)))\n",
    "model.add(Dropout(0.25))\n",
    "\n",
    "model.add(Conv2D(64,(3,3),activation='relu'))\n",
    "model.add(MaxPool2D(pool_size=(2,2)))\n",
    "model.add(Dropout(0.25))\n",
    "\n",
    "model.add(Conv2D(128,(3,3),activation='relu'))\n",
    "model.add(MaxPool2D(pool_size=(2,2)))\n",
    "model.add(Dropout(0.25))\n",
    "\n",
    "model.add(Flatten())\n",
    "model.add(Dense(64,activation='relu'))\n",
    "model.add(Dropout(0.5))\n",
    "model.add(Dense(1,activation='sigmoid'))\n",
    "\n",
    "model.compile(loss=keras.losses.binary_crossentropy,optimizer='adam',metrics=['accuracy'])\n",
    "model.summary()"
   ]
  },
  {
   "cell_type": "code",
   "execution_count": 3,
   "metadata": {
    "executionInfo": {
     "elapsed": 39187,
     "status": "ok",
     "timestamp": 1618300968130,
     "user": {
      "displayName": "Abhishek Sharma",
      "photoUrl": "https://lh3.googleusercontent.com/a-/AOh14GiRKfpd_A0MUIPBHRzyZRyDVtlOCQyVXLETmIQVSA=s64",
      "userId": "15158990279670167313"
     },
     "user_tz": -330
    },
    "id": "DSkoCAoG1f5c"
   },
   "outputs": [],
   "source": [
    "train_datagen = image.ImageDataGenerator(rescale = 1./255,\n",
    "                                         shear_range = 0.2,\n",
    "                                         horizontal_flip = True,\n",
    "                                         zoom_range = 0.2)\n",
    "\n",
    "val_datagen = image.ImageDataGenerator(rescale=1./255)"
   ]
  },
  {
   "cell_type": "code",
   "execution_count": 4,
   "metadata": {
    "colab": {
     "base_uri": "https://localhost:8080/"
    },
    "executionInfo": {
     "elapsed": 40087,
     "status": "ok",
     "timestamp": 1618300969034,
     "user": {
      "displayName": "Abhishek Sharma",
      "photoUrl": "https://lh3.googleusercontent.com/a-/AOh14GiRKfpd_A0MUIPBHRzyZRyDVtlOCQyVXLETmIQVSA=s64",
      "userId": "15158990279670167313"
     },
     "user_tz": -330
    },
    "id": "IRja172T2IWL",
    "outputId": "586f0496-1458-495e-9aa3-e4d9b1523ae2"
   },
   "outputs": [
    {
     "name": "stdout",
     "output_type": "stream",
     "text": [
      "Found 282 images belonging to 2 classes.\n",
      "Found 80 images belonging to 2 classes.\n"
     ]
    }
   ],
   "source": [
    "training_data = train_datagen.flow_from_directory('Train',\n",
    "                                                  target_size=(224,224),\n",
    "                                                  class_mode='binary',\n",
    "                                                  batch_size=32)\n",
    "\n",
    "val_data = val_datagen.flow_from_directory('Val',\n",
    "                                           target_size=(224,224),\n",
    "                                           class_mode='binary',\n",
    "                                           batch_size=32)"
   ]
  },
  {
   "cell_type": "code",
   "execution_count": 5,
   "metadata": {
    "colab": {
     "base_uri": "https://localhost:8080/"
    },
    "executionInfo": {
     "elapsed": 40082,
     "status": "ok",
     "timestamp": 1618300969035,
     "user": {
      "displayName": "Abhishek Sharma",
      "photoUrl": "https://lh3.googleusercontent.com/a-/AOh14GiRKfpd_A0MUIPBHRzyZRyDVtlOCQyVXLETmIQVSA=s64",
      "userId": "15158990279670167313"
     },
     "user_tz": -330
    },
    "id": "Nj3rv1XU4xt5",
    "outputId": "b176d333-106d-4956-ac75-150ae3c7aeb6"
   },
   "outputs": [
    {
     "data": {
      "text/plain": [
       "{'COVID': 0, 'NORMAL': 1}"
      ]
     },
     "execution_count": 5,
     "metadata": {},
     "output_type": "execute_result"
    }
   ],
   "source": [
    "training_data.class_indices"
   ]
  },
  {
   "cell_type": "code",
   "execution_count": 6,
   "metadata": {
    "colab": {
     "base_uri": "https://localhost:8080/"
    },
    "executionInfo": {
     "elapsed": 363090,
     "status": "ok",
     "timestamp": 1618301292054,
     "user": {
      "displayName": "Abhishek Sharma",
      "photoUrl": "https://lh3.googleusercontent.com/a-/AOh14GiRKfpd_A0MUIPBHRzyZRyDVtlOCQyVXLETmIQVSA=s64",
      "userId": "15158990279670167313"
     },
     "user_tz": -330
    },
    "id": "LoOaVFkc5FjU",
    "outputId": "0244b0b6-7ca2-49f8-f713-648702d0bf92"
   },
   "outputs": [
    {
     "name": "stdout",
     "output_type": "stream",
     "text": [
      "Epoch 1/20\n",
      "8/8 [==============================] - 47s 6s/step - loss: 1.3672 - accuracy: 0.4531 - val_loss: 0.6877 - val_accuracy: 0.5156\n",
      "Epoch 2/20\n",
      "8/8 [==============================] - 45s 6s/step - loss: 0.6522 - accuracy: 0.6520 - val_loss: 0.6346 - val_accuracy: 0.8125\n",
      "Epoch 3/20\n",
      "8/8 [==============================] - 47s 6s/step - loss: 0.4984 - accuracy: 0.7440 - val_loss: 0.3786 - val_accuracy: 0.9062\n",
      "Epoch 4/20\n",
      "8/8 [==============================] - 48s 6s/step - loss: 0.4112 - accuracy: 0.8240 - val_loss: 0.5121 - val_accuracy: 0.7812\n",
      "Epoch 5/20\n",
      "8/8 [==============================] - 46s 6s/step - loss: 0.4163 - accuracy: 0.8280 - val_loss: 0.3554 - val_accuracy: 0.8750\n",
      "Epoch 6/20\n",
      "8/8 [==============================] - 47s 6s/step - loss: 0.3157 - accuracy: 0.8600 - val_loss: 0.3424 - val_accuracy: 0.8750\n",
      "Epoch 7/20\n",
      "8/8 [==============================] - 46s 6s/step - loss: 0.3222 - accuracy: 0.8680 - val_loss: 0.2894 - val_accuracy: 0.9062\n",
      "Epoch 8/20\n",
      "8/8 [==============================] - 40s 5s/step - loss: 0.2501 - accuracy: 0.9160 - val_loss: 0.2164 - val_accuracy: 0.8906\n",
      "Epoch 9/20\n",
      "8/8 [==============================] - 42s 5s/step - loss: 0.2451 - accuracy: 0.9240 - val_loss: 0.1973 - val_accuracy: 0.9375\n",
      "Epoch 10/20\n",
      "8/8 [==============================] - 48s 6s/step - loss: 0.2525 - accuracy: 0.9120 - val_loss: 0.2069 - val_accuracy: 0.9688\n",
      "Epoch 11/20\n",
      "8/8 [==============================] - 41s 5s/step - loss: 0.2056 - accuracy: 0.9120 - val_loss: 0.2030 - val_accuracy: 0.9531\n",
      "Epoch 12/20\n",
      "8/8 [==============================] - 39s 5s/step - loss: 0.1949 - accuracy: 0.9480 - val_loss: 0.1654 - val_accuracy: 0.9531\n",
      "Epoch 13/20\n",
      "8/8 [==============================] - 46s 6s/step - loss: 0.2137 - accuracy: 0.9200 - val_loss: 0.2150 - val_accuracy: 0.9375\n",
      "Epoch 14/20\n",
      "8/8 [==============================] - 46s 6s/step - loss: 0.1702 - accuracy: 0.9200 - val_loss: 0.1884 - val_accuracy: 0.9375\n",
      "Epoch 15/20\n",
      "8/8 [==============================] - 48s 6s/step - loss: 0.2362 - accuracy: 0.9120 - val_loss: 0.2039 - val_accuracy: 0.9375\n",
      "Epoch 16/20\n",
      "8/8 [==============================] - 51s 6s/step - loss: 0.1983 - accuracy: 0.9200 - val_loss: 0.1620 - val_accuracy: 0.9531\n",
      "Epoch 17/20\n",
      "8/8 [==============================] - 48s 6s/step - loss: 0.1327 - accuracy: 0.9400 - val_loss: 0.1134 - val_accuracy: 0.9688\n",
      "Epoch 18/20\n",
      "8/8 [==============================] - 46s 6s/step - loss: 0.1398 - accuracy: 0.9400 - val_loss: 0.1071 - val_accuracy: 0.9531\n",
      "Epoch 19/20\n",
      "8/8 [==============================] - 48s 6s/step - loss: 0.1792 - accuracy: 0.9480 - val_loss: 0.1622 - val_accuracy: 0.9688\n",
      "Epoch 20/20\n",
      "8/8 [==============================] - 53s 7s/step - loss: 0.1667 - accuracy: 0.9240 - val_loss: 0.1401 - val_accuracy: 0.9688\n"
     ]
    }
   ],
   "source": [
    "e = 20\n",
    "hist = model.fit(training_data,\n",
    "                    steps_per_epoch=8,\n",
    "                    epochs = e,\n",
    "                    validation_data = val_data,\n",
    "                    validation_steps = 2)\n",
    "model.save('../models/covid.h5')"
   ]
  },
  {
   "cell_type": "code",
   "execution_count": 7,
   "metadata": {
    "colab": {
     "base_uri": "https://localhost:8080/",
     "height": 299
    },
    "executionInfo": {
     "elapsed": 363093,
     "status": "ok",
     "timestamp": 1618301292062,
     "user": {
      "displayName": "Abhishek Sharma",
      "photoUrl": "https://lh3.googleusercontent.com/a-/AOh14GiRKfpd_A0MUIPBHRzyZRyDVtlOCQyVXLETmIQVSA=s64",
      "userId": "15158990279670167313"
     },
     "user_tz": -330
    },
    "id": "OciHHx6p526u",
    "outputId": "bdf7ece1-4e9d-41ca-cb6c-acda38083dc0"
   },
   "outputs": [
    {
     "data": {
      "text/plain": [
       "<matplotlib.legend.Legend at 0x1afcd1f3bb0>"
      ]
     },
     "execution_count": 7,
     "metadata": {},
     "output_type": "execute_result"
    },
    {
     "data": {
      "image/png": "[encoded data removed]",
      "text/plain": [
       "<Figure size 1900x800 with 2 Axes>"
      ]
     },
     "metadata": {},
     "output_type": "display_data"
    }
   ],
   "source": [
    "train_loss = hist.history['loss']\n",
    "val_loss = hist.history['val_loss']\n",
    "acc = hist.history['accuracy']\n",
    "val_acc = hist.history['val_accuracy']\n",
    "\n",
    "epochs = range(1,e+1)\n",
    "\n",
    "plt.figure(figsize=(19,8))\n",
    "plt.subplot(121)\n",
    "plt.plot(epochs,train_loss,label='Training loss')\n",
    "plt.plot(epochs,val_loss,label='Validation Loss')\n",
    "plt.title('Losses')\n",
    "\n",
    "plt.subplot(122)\n",
    "plt.plot(epochs,acc,label='Training Accuracy')\n",
    "plt.plot(epochs,val_acc,label='Validation Accuracy')\n",
    "plt.title('Accuracy')\n",
    "\n",
    "plt.legend()"
   ]
  },
  {
   "cell_type": "code",
   "execution_count": 8,
   "metadata": {
    "colab": {
     "base_uri": "https://localhost:8080/"
    },
    "executionInfo": {
     "elapsed": 372873,
     "status": "ok",
     "timestamp": 1618301301866,
     "user": {
      "displayName": "Abhishek Sharma",
      "photoUrl": "https://lh3.googleusercontent.com/a-/AOh14GiRKfpd_A0MUIPBHRzyZRyDVtlOCQyVXLETmIQVSA=s64",
      "userId": "15158990279670167313"
     },
     "user_tz": -330
    },
    "id": "v4a6Vdf19pe3",
    "outputId": "2fa0ef59-268c-4d87-aba9-cddddcc35fd5"
   },
   "outputs": [
    {
     "name": "stderr",
     "output_type": "stream",
     "text": [
      "C:\\Users\\vansh\\AppData\\Local\\Temp\\ipykernel_23860\\4125820930.py:1: UserWarning: `Model.evaluate_generator` is deprecated and will be removed in a future version. Please use `Model.evaluate`, which supports generators.\n",
      "  model.evaluate_generator(training_data)\n"
     ]
    },
    {
     "data": {
      "text/plain": [
       "[0.14364781975746155, 0.9609929323196411]"
      ]
     },
     "execution_count": 8,
     "metadata": {},
     "output_type": "execute_result"
    }
   ],
   "source": [
    "model.evaluate_generator(training_data)"
   ]
  },
  {
   "cell_type": "code",
   "execution_count": 9,
   "metadata": {
    "colab": {
     "base_uri": "https://localhost:8080/"
    },
    "executionInfo": {
     "elapsed": 375856,
     "status": "ok",
     "timestamp": 1618301304856,
     "user": {
      "displayName": "Abhishek Sharma",
      "photoUrl": "https://lh3.googleusercontent.com/a-/AOh14GiRKfpd_A0MUIPBHRzyZRyDVtlOCQyVXLETmIQVSA=s64",
      "userId": "15158990279670167313"
     },
     "user_tz": -330
    },
    "id": "HomNhgrN_iLA",
    "outputId": "2acf94a1-e643-4096-978f-83fafed6ed55"
   },
   "outputs": [
    {
     "name": "stderr",
     "output_type": "stream",
     "text": [
      "C:\\Users\\vansh\\AppData\\Local\\Temp\\ipykernel_23860\\3807241483.py:1: UserWarning: `Model.evaluate_generator` is deprecated and will be removed in a future version. Please use `Model.evaluate`, which supports generators.\n",
      "  model.evaluate_generator(val_data)\n"
     ]
    },
    {
     "data": {
      "text/plain": [
       "[0.14424079656600952, 0.9624999761581421]"
      ]
     },
     "execution_count": 9,
     "metadata": {},
     "output_type": "execute_result"
    }
   ],
   "source": [
    "model.evaluate_generator(val_data)"
   ]
  },
  {
   "cell_type": "markdown",
   "metadata": {},
   "source": [
    "### Testing"
   ]
  },
  {
   "cell_type": "code",
   "execution_count": 11,
   "metadata": {
    "colab": {
     "base_uri": "https://localhost:8080/",
     "height": 803
    },
    "executionInfo": {
     "elapsed": 3938,
     "status": "ok",
     "timestamp": 1618301638048,
     "user": {
      "displayName": "Abhishek Sharma",
      "photoUrl": "https://lh3.googleusercontent.com/a-/AOh14GiRKfpd_A0MUIPBHRzyZRyDVtlOCQyVXLETmIQVSA=s64",
      "userId": "15158990279670167313"
     },
     "user_tz": -330
    },
    "id": "Nda8o9JI_oSt",
    "outputId": "b684a418-c228-4a59-bcf3-00b79f0c8165"
   },
   "outputs": [
    {
     "name": "stdout",
     "output_type": "stream",
     "text": [
      "1/1 [==============================] - 0s 195ms/step\n",
      "1/1 [==============================] - 0s 53ms/step\n",
      "1/1 [==============================] - 0s 56ms/step\n",
      "1/1 [==============================] - 0s 60ms/step\n",
      "1/1 [==============================] - 0s 52ms/step\n",
      "1/1 [==============================] - 0s 60ms/step\n",
      "1/1 [==============================] - 0s 55ms/step\n",
      "1/1 [==============================] - 0s 62ms/step\n",
      "1/1 [==============================] - 0s 57ms/step\n",
      "1/1 [==============================] - 0s 54ms/step\n",
      "1/1 [==============================] - 0s 55ms/step\n",
      "1/1 [==============================] - 0s 53ms/step\n",
      "1/1 [==============================] - 0s 56ms/step\n",
      "1/1 [==============================] - 0s 56ms/step\n",
      "1/1 [==============================] - 0s 67ms/step\n",
      "1/1 [==============================] - 0s 56ms/step\n",
      "1/1 [==============================] - 0s 56ms/step\n",
      "1/1 [==============================] - 0s 57ms/step\n",
      "1/1 [==============================] - 0s 54ms/step\n",
      "1/1 [==============================] - 0s 58ms/step\n",
      "1/1 [==============================] - 0s 58ms/step\n",
      "1/1 [==============================] - 0s 57ms/step\n",
      "1/1 [==============================] - 0s 66ms/step\n",
      "1/1 [==============================] - 0s 58ms/step\n",
      "1/1 [==============================] - 0s 56ms/step\n",
      "1/1 [==============================] - 0s 58ms/step\n",
      "1/1 [==============================] - 0s 54ms/step\n",
      "1/1 [==============================] - 0s 57ms/step\n",
      "1/1 [==============================] - 0s 55ms/step\n",
      "1/1 [==============================] - 0s 55ms/step\n"
     ]
    },
    {
     "data": {
      "text/plain": [
       "<AxesSubplot:>"
      ]
     },
     "execution_count": 11,
     "metadata": {},
     "output_type": "execute_result"
    },
    {
     "data": {
      "image/png": "[encoded data removed]",
      "text/plain": [
       "<Figure size 640x480 with 2 Axes>"
      ]
     },
     "metadata": {},
     "output_type": "display_data"
    }
   ],
   "source": [
    "import cv2\n",
    "import os\n",
    "import seaborn as sns\n",
    "from tensorflow.keras.models import load_model\n",
    "\n",
    "TP = 0\n",
    "TN = 0\n",
    "FP = 0\n",
    "FN = 0\n",
    "\n",
    "model = load_model('../models/covid.h5')\n",
    "\n",
    "covid_images = os.listdir('Test/COVID')\n",
    "normal_images = os.listdir('Test/NORMAL')\n",
    "\n",
    "for i in covid_images:\n",
    "    img = cv2.imread('Test/COVID/'+i)\n",
    "    img = cv2.resize(img, (224, 224))\n",
    "    img = img.reshape(1, 224, 224, 3)\n",
    "    img = img/255.0\n",
    "    pred = model.predict(img)\n",
    "    if pred<0.5:\n",
    "        TP+=1\n",
    "    else:\n",
    "        FN+=1\n",
    "\n",
    "for i in normal_images:\n",
    "    img = cv2.imread('Test/NORMAL/'+i)\n",
    "    img = cv2.resize(img, (224, 224))\n",
    "    img = img.reshape(1, 224, 224, 3)\n",
    "    img = img/255.0\n",
    "    pred = model.predict(img)\n",
    "    if pred>0.5:\n",
    "        TN+=1\n",
    "    else:\n",
    "        FP+=1\n",
    "  \n",
    "sns.heatmap([[TP,FP],[FN,TN]],annot=True)"
   ]
  },
  {
   "cell_type": "code",
   "execution_count": null,
   "metadata": {},
   "outputs": [],
   "source": []
  }
 ],
 "metadata": {
  "accelerator": "GPU",
  "colab": {
   "authorship_tag": "ABX9TyNtnQvybditfoUoZ3Lqyrz/",
   "collapsed_sections": [],
   "name": "covid detection.ipynb",
   "provenance": []
  },
  "kernelspec": {
   "display_name": "Python 3 (ipykernel)",
   "language": "python",
   "name": "python3"
  },
  "language_info": {
   "codemirror_mode": {
    "name": "ipython",
    "version": 3
   },
   "file_extension": ".py",
   "mimetype": "text/x-python",
   "name": "python",
   "nbconvert_exporter": "python",
   "pygments_lexer": "ipython3",
   "version": "3.9.13"
  }
 },
 "nbformat": 4,
 "nbformat_minor": 1
}
